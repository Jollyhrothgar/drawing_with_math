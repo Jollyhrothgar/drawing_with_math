{
 "cells": [
  {
   "cell_type": "markdown",
   "metadata": {},
   "source": [
    "# Introduction\n",
    "\n",
    "In this notebook, I want to draw mazes (preferably procedurally generated), then build entities that try to solve the maze. Bonus points if it can be done visually with an animation.\n",
    "\n",
    "## Design Choices\n",
    "\n",
    "### Where does the maze live?\n",
    "\n",
    "To generate mazes, we gotta make a few decisions. First, we need to think about where the maze lives - should it live on a grid? A circle? Something else?\n",
    "\n",
    "### How do we represent the maze?\n",
    "\n",
    "Secondly, we need to think about how represent the maze. Do we need to consider a long hallway? What about just a fully connected graph? Something else?"
   ]
  },
  {
   "cell_type": "markdown",
   "metadata": {},
   "source": [
    "# Randomized depth-first search\n",
    "\n",
    "This is a randomized version of the depth-first search algorithm, and is typically implemented with a stack datastructure.\n",
    "\n",
    "* Representation: (M by N) grid\n",
    "  * Each cell is a point on the maze grid\n",
    "  * Each cell starts with four walls.\n",
    "\n",
    "## Algorithm in words\n",
    "\n",
    "* Start from random cell\n",
    "* Select random neighbor that has not been visited\n",
    "* Remove the wall between the two cells, marking new cell as visited.\n",
    "  * Add new cell to stack of visited cells\n",
    "* Repeat process until reaching a dead end\n",
    "  * A dead end is a cell with no unvisited neighbors\n",
    "\n",
    "* When at a dead end, back-track through visited cells until reaching an unvisited neighbor, continuing the path generation process until every cell is visited.\n",
    "* When we back track to the first cell, we know the process is finished."
   ]
  },
  {
   "cell_type": "code",
   "execution_count": 1,
   "metadata": {},
   "outputs": [
    {
     "name": "stdout",
     "output_type": "stream",
     "text": [
      "Collecting bidict\n",
      "  Downloading bidict-0.21.2-py2.py3-none-any.whl (37 kB)\n",
      "Installing collected packages: bidict\n",
      "Successfully installed bidict-0.21.2\n"
     ]
    }
   ],
   "source": [
    "!pip install bidict"
   ]
  },
  {
   "cell_type": "code",
   "execution_count": 2,
   "metadata": {},
   "outputs": [],
   "source": [
    "from bidict import bidict"
   ]
  },
  {
   "cell_type": "code",
   "execution_count": 110,
   "metadata": {},
   "outputs": [],
   "source": [
    "import numpy as np\n",
    "from bidict import bidict\n",
    "import random\n",
    "\n",
    "class Maze(object):\n",
    "  def __init__(self, M, N):\n",
    "    \"\"\"\n",
    "    Initialize the maze as a rectangular M by N grid.\n",
    "    \"\"\"\n",
    "    self.M = M\n",
    "    self.N = N\n",
    "    self._visited = {(i, j): False for i in range(M) for j in range(N)}\n",
    "    self._path = bidict()\n",
    "    \n",
    "  \n",
    "  def get_neighbors_list(self, cell):\n",
    "    \"\"\"\n",
    "    Get a list of all valid neighbors to cell\n",
    "    \"\"\"\n",
    "    neighbors = []\n",
    "    neighbors_list = [\n",
    "      (cell[0], cell[1] - 1),\n",
    "      (cell[0], cell[1] + 1),\n",
    "      (cell[0] + 1, cell[1]),\n",
    "      (cell[0] - 1, cell[1])\n",
    "    ]\n",
    "    \n",
    "    for neighbor in neighbors_list:\n",
    "      if neighbor in self._visited: # Check if (i, j) is a valid index.\n",
    "        neighbors.append(neighbor)\n",
    "    return neighbors\n",
    "       \n",
    "  \n",
    "  def are_neighbors_visited(self, cell):\n",
    "    \"\"\"\n",
    "    Given a cell in the grid, return true if any its neighbors have been\n",
    "    visited. An edge or corner cell has fewer neighbors.\n",
    "    \n",
    "    Args:\n",
    "      cell - a Tuple(int, int) representing a cell in the grid.\n",
    "    \n",
    "    Returns:\n",
    "      True if neighbors are visited, otherwise false.\n",
    "    \"\"\"\n",
    "    # Its okay if we generate out of range neighbors, the keys of our \"_visited\"\n",
    "    # dictionary are \n",
    "    \n",
    "    for neighbor in self.get_neighbors_list(cell):\n",
    "      if self._visited[neighbor]:\n",
    "        return True\n",
    "    return False\n",
    "  \n",
    "    \n",
    "  def select_random_cell(self):\n",
    "    \"\"\"\n",
    "    Returns a tuple representing a cell in the maze.\n",
    "    \"\"\"\n",
    "    return (\n",
    "      np.random.randint(low=0, high=self.M-1), \n",
    "      np.random.randint(low=0, high=self.N-1)\n",
    "    )\n",
    "  \n",
    "  \n",
    "  def get_unvisited_neighbors(self, cell):\n",
    "    \"\"\"\n",
    "    Returns a random adjacent cell\n",
    "    \"\"\"\n",
    "    unvisited = []\n",
    "    for neighbor in self.get_neighbors_list(cell):\n",
    "      if self._visited[neighbor] == False:\n",
    "        unvisited.append(neighbor)\n",
    "    return unvisited\n",
    "  \n",
    "  \n",
    "  def generate_randomized_dfs(self):\n",
    "    \"\"\"\n",
    "    Generate a maze using randomized depth first search\n",
    "    \"\"\"\n",
    "    first_cell = self.select_random_cell()\n",
    "    stack = [first_cell]\n",
    "    self._visited[first_cell] = True\n",
    "    \n",
    "    while len(stack) != 0:\n",
    "      current_cell = stack.pop()\n",
    "      neighbors = self.get_unvisited_neighbors(current_cell)\n",
    "      if len(neighbors) > 0:\n",
    "        stack.append(current_cell)\n",
    "        next_cell = random.choice(neighbors)\n",
    "        self._visited[next_cell] = True\n",
    "        stack.append(next_cell)\n",
    "        if (current_cell, next_cell) not in self._path or (current_cell, next_cell) not in self._path.inverse:\n",
    "          self._path[(current_cell, next_cell)] = (next_cell, current_cell)\n",
    "#         print(current_cell, \"->\", next_cell)\n",
    "        "
   ]
  },
  {
   "cell_type": "code",
   "execution_count": 125,
   "metadata": {},
   "outputs": [],
   "source": [
    "m = Maze(100, 100)"
   ]
  },
  {
   "cell_type": "code",
   "execution_count": 126,
   "metadata": {},
   "outputs": [
    {
     "name": "stdout",
     "output_type": "stream",
     "text": [
      "[(2, 1), (2, 3), (3, 2), (1, 2)]\n",
      "[(0, 1), (1, 0)]\n"
     ]
    }
   ],
   "source": [
    "print(m.get_neighbors_list(cell=(2,2)))\n",
    "print(m.get_neighbors_list(cell=(0,0)))"
   ]
  },
  {
   "cell_type": "code",
   "execution_count": 127,
   "metadata": {},
   "outputs": [],
   "source": [
    "m.generate_randomized_dfs()"
   ]
  },
  {
   "cell_type": "code",
   "execution_count": 128,
   "metadata": {},
   "outputs": [],
   "source": [
    "import matplotlib.pyplot as plt"
   ]
  },
  {
   "cell_type": "code",
   "execution_count": 131,
   "metadata": {},
   "outputs": [
    {
     "data": {
      "image/png": "[encoded data removed]",
      "text/plain": [
       "<Figure size 576x576 with 1 Axes>"
      ]
     },
     "metadata": {
      "needs_background": "light"
     },
     "output_type": "display_data"
    }
   ],
   "source": [
    "fig, ax = plt.subplots(figsize=(8, 8))\n",
    "for path in m._path:\n",
    "  ((x1, y1), (x2, y2)) = path\n",
    "  x_values = [x1, x2]\n",
    "  y_values = [y1, y2]\n",
    "  ax.set_facecolor('black')\n",
    "  ax.plot(x_values, y_values, linewidth=1.5, color='white')"
   ]
  },
  {
   "cell_type": "code",
   "execution_count": null,
   "metadata": {},
   "outputs": [],
   "source": []
  }
 ],
 "metadata": {
  "kernelspec": {
   "display_name": "Python 3",
   "language": "python",
   "name": "python3"
  },
  "language_info": {
   "codemirror_mode": {
    "name": "ipython",
    "version": 3
   },
   "file_extension": ".py",
   "mimetype": "text/x-python",
   "name": "python",
   "nbconvert_exporter": "python",
   "pygments_lexer": "ipython3",
   "version": "3.7.8"
  }
 },
 "nbformat": 4,
 "nbformat_minor": 4
}
